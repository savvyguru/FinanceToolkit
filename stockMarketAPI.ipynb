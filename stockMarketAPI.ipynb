{
  "nbformat": 4,
  "nbformat_minor": 0,
  "metadata": {
    "colab": {
      "name": "stockMarketAPI.ipynb",
      "provenance": [],
      "authorship_tag": "ABX9TyP8vPwa3u7u1uHMAqHmDNyI",
      "include_colab_link": true
    },
    "kernelspec": {
      "name": "python3",
      "display_name": "Python 3"
    }
  },
  "cells": [
    {
      "cell_type": "markdown",
      "metadata": {
        "id": "view-in-github",
        "colab_type": "text"
      },
      "source": [
        "<a href=\"https://colab.research.google.com/github/savvyguru/FinanceToolkit/blob/master/stockMarketAPI.ipynb\" target=\"_parent\"><img src=\"https://colab.research.google.com/assets/colab-badge.svg\" alt=\"Open In Colab\"/></a>"
      ]
    },
    {
      "cell_type": "markdown",
      "metadata": {
        "id": "bOZ7wT1-ir5t",
        "colab_type": "text"
      },
      "source": [
        "## **rapidAPI- alphaVantage**"
      ]
    },
    {
      "cell_type": "code",
      "metadata": {
        "id": "DKjr2_uJpn6-",
        "colab_type": "code",
        "colab": {}
      },
      "source": [
        "import json\n",
        "import requests"
      ],
      "execution_count": 0,
      "outputs": []
    },
    {
      "cell_type": "code",
      "metadata": {
        "id": "n-pJHefuhqxI",
        "colab_type": "code",
        "colab": {}
      },
      "source": [
        "#ticker = \"ES3.SI\" / \"IWDA.L\"\n",
        "def getStockApi(ticker):\n",
        "  url = \"https://alpha-vantage.p.rapidapi.com/query\"\n",
        "\n",
        "  querystring = {\"outputsize\":\"compact\",\"datatype\":\"json\",\"function\":\"TIME_SERIES_DAILY_ADJUSTED\",\"symbol\":ticker}\n",
        "\n",
        "  headers = {\n",
        "      'x-rapidapi-host': \"alpha-vantage.p.rapidapi.com\",\n",
        "      'x-rapidapi-key': \"d6e67c3f55msh07fa16a3721bdfcp1a9cc8jsn19792a4bd4b1\"\n",
        "      }\n",
        "\n",
        "  response = requests.request(\"GET\", url, headers=headers, params=querystring)\n",
        "  return json.loads(response.text)\n"
      ],
      "execution_count": 0,
      "outputs": []
    },
    {
      "cell_type": "markdown",
      "metadata": {
        "id": "gQnp-1wdpMX9",
        "colab_type": "text"
      },
      "source": [
        "## **Get forex exchange rate**"
      ]
    },
    {
      "cell_type": "code",
      "metadata": {
        "id": "LsKAY1rYpLa_",
        "colab_type": "code",
        "colab": {}
      },
      "source": [
        "# local = \"SGD\", foreign = \"USD\"\n",
        "def getExchangeRate(local,foreign):\n",
        "  url = \"https://alpha-vantage.p.rapidapi.com/query\"\n",
        "\n",
        "  querystring = {\"function\":\"CURRENCY_EXCHANGE_RATE\",\"to_currency\":foreign,\"from_currency\":local}\n",
        "\n",
        "  headers = {\n",
        "      'x-rapidapi-host': \"alpha-vantage.p.rapidapi.com\",\n",
        "      'x-rapidapi-key': \"d6e67c3f55msh07fa16a3721bdfcp1a9cc8jsn19792a4bd4b1\"\n",
        "      }\n",
        "\n",
        "  response = requests.request(\"GET\", url, headers=headers, params=querystring)\n",
        "  xr = json.loads(response.text)\n",
        "  return xr[\"Realtime Currency Exchange Rate\"][\"5. Exchange Rate\"]\n"
      ],
      "execution_count": 0,
      "outputs": []
    },
    {
      "cell_type": "code",
      "metadata": {
        "id": "Xzfe3Gf6sCbg",
        "colab_type": "code",
        "colab": {}
      },
      "source": [
        "def convertCurrency(local,foreign):\n",
        "  xr = getExchangeRate(local,foreign)\n",
        "  return local * xr"
      ],
      "execution_count": 0,
      "outputs": []
    },
    {
      "cell_type": "markdown",
      "metadata": {
        "id": "DwiDtSKGqjVx",
        "colab_type": "text"
      },
      "source": [
        "## **Get stock price of the day**"
      ]
    },
    {
      "cell_type": "code",
      "metadata": {
        "id": "F-U_r6I_iPoV",
        "colab_type": "code",
        "colab": {}
      },
      "source": [
        "stockInfo = getStockApi(ticker)\n",
        "dailyInfo = stockInfo[\"Time Series (Daily)\"][date]  "
      ],
      "execution_count": 0,
      "outputs": []
    },
    {
      "cell_type": "code",
      "metadata": {
        "id": "ShL7MI45kgqg",
        "colab_type": "code",
        "colab": {}
      },
      "source": [
        "stock = getStockByDay(\"2020-05-08\")"
      ],
      "execution_count": 0,
      "outputs": []
    },
    {
      "cell_type": "markdown",
      "metadata": {
        "id": "ccSJzJQJoPrY",
        "colab_type": "text"
      },
      "source": [
        "## **Calculate maximum number of stock purchases**"
      ]
    },
    {
      "cell_type": "code",
      "metadata": {
        "id": "NFc0Cfd7l7Dh",
        "colab_type": "code",
        "outputId": "891c465b-31a6-4a3c-8f86-444c11a122a4",
        "colab": {
          "base_uri": "https://localhost:8080/",
          "height": 34
        }
      },
      "source": [
        "budget = 560\n",
        "lotSize = 10\n",
        "\n",
        "def getAveragePrice(stock):\n",
        "  high = float(stock[\"2. high\"])\n",
        "  low = float(stock[\"3. low\"])\n",
        "  return (high + low)/2\n",
        "\n",
        "avgPrice = getAveragePrice(stock)\n",
        "\n",
        "def getMaxNumberStocks(budget,lotSize,avgPrice):\n",
        "  lotsToBuy = budget // (lotSize * avgPrice)\n",
        "  return lotsToBuy\n",
        "\n",
        "def getSpillover(budget,lotSize,avgPrice):\n",
        "  return budget % (lotSize * avgPrice)"
      ],
      "execution_count": 0,
      "outputs": [
        {
          "output_type": "execute_result",
          "data": {
            "text/plain": [
              "12.634999999999973"
            ]
          },
          "metadata": {
            "tags": []
          },
          "execution_count": 51
        }
      ]
    },
    {
      "cell_type": "code",
      "metadata": {
        "id": "h7GhXoQtoclV",
        "colab_type": "code",
        "colab": {}
      },
      "source": [
        "\n",
        "getMaxNumberStocks(budget,lotSize,avgPrice)\n",
        "getSpillover(budget,lotSize,avgPrice)"
      ],
      "execution_count": 0,
      "outputs": []
    },
    {
      "cell_type": "markdown",
      "metadata": {
        "id": "W8qF31cfYAGA",
        "colab_type": "text"
      },
      "source": [
        "## **Mean Present Value**\n"
      ]
    },
    {
      "cell_type": "code",
      "metadata": {
        "id": "JQAyTSCLXe3k",
        "colab_type": "code",
        "colab": {}
      },
      "source": [
        "#FV is the future value\n",
        "#n is the number of period\n",
        "#r is the interest rate\n",
        "def getMPV(FV,n,r):\n",
        "  mpv = FV / (1+r)**n\n",
        "  return mpv"
      ],
      "execution_count": 0,
      "outputs": []
    },
    {
      "cell_type": "markdown",
      "metadata": {
        "id": "skECbXh7WX40",
        "colab_type": "text"
      },
      "source": [
        "## **Discounted Cashflow Formula**"
      ]
    },
    {
      "cell_type": "code",
      "metadata": {
        "id": "HWOH_Pu_WiG5",
        "colab_type": "code",
        "colab": {}
      },
      "source": [
        "#cf is an array of cashflow for the respective year/time period\n",
        "#r is the discount rate (interest rate)\n",
        "def getPresentValue(cf,r):\n",
        "  val = 0\n",
        "  for i in range(len(cf)):\n",
        "    dcf = cf[i] / (1+r)**(i+1)\n",
        "    val += dcf\n",
        "  return val  "
      ],
      "execution_count": 0,
      "outputs": []
    },
    {
      "cell_type": "markdown",
      "metadata": {
        "id": "WV7RYyIfYlBD",
        "colab_type": "text"
      },
      "source": [
        "## **Internal Rate of Return**"
      ]
    },
    {
      "cell_type": "code",
      "metadata": {
        "id": "cVYtL4bIZDki",
        "colab_type": "code",
        "colab": {}
      },
      "source": [
        "# ct is an array of the net cashflow per time period t(year)\n",
        "#c0 is the baseline cashflow (or initial cost)\n",
        "#r is the interest rate\n",
        "def getIRR(ct,c0,r):\n",
        "  totalIRR = -c0\n",
        "  for i in range(len(ct)):\n",
        "    yearlyIRR = ct[i] / (1+r)**i\n",
        "    totalIRR += yearlyIRR\n",
        "  return totalIRR"
      ],
      "execution_count": 0,
      "outputs": []
    },
    {
      "cell_type": "markdown",
      "metadata": {
        "id": "z3JUKs13brav",
        "colab_type": "text"
      },
      "source": [
        "## **Dollar Cost Averaging**\n",
        "Regular investments of the same amount of money<br>\n",
        "Makes purchase of volatile stocks less risky"
      ]
    },
    {
      "cell_type": "code",
      "metadata": {
        "id": "3oz4cpOYbxT5",
        "colab_type": "code",
        "colab": {}
      },
      "source": [
        "# sharePrice is an array of share prices every month(time unit) for the time period\n",
        "def sharesPurchased(investmentAmount,sharePrice):\n",
        "  return investmentAmount / sharePrice"
      ],
      "execution_count": 0,
      "outputs": []
    }
  ]
}